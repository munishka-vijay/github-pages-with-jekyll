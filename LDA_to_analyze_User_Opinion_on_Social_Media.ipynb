{
  "cells": [
    {
      "cell_type": "markdown",
      "metadata": {
        "id": "view-in-github",
        "colab_type": "text"
      },
      "source": [
        "<a href=\"https://colab.research.google.com/github/munishka-vijay/github-pages-with-jekyll/blob/main/LDA_to_analyze_User_Opinion_on_Social_Media.ipynb\" target=\"_parent\"><img src=\"https://colab.research.google.com/assets/colab-badge.svg\" alt=\"Open In Colab\"/></a>"
      ]
    },
    {
      "cell_type": "code",
      "execution_count": null,
      "metadata": {
        "id": "isokOJA8rvER",
        "outputId": "cd991b92-570e-4fcb-9618-d0f8535c567b"
      },
      "outputs": [
        {
          "name": "stderr",
          "output_type": "stream",
          "text": [
            "[nltk_data] Downloading package stopwords to\n",
            "[nltk_data]     C:\\Users\\itsme\\AppData\\Roaming\\nltk_data...\n",
            "[nltk_data]   Package stopwords is already up-to-date!\n"
          ]
        },
        {
          "data": {
            "text/plain": [
              "True"
            ]
          },
          "execution_count": 1,
          "metadata": {},
          "output_type": "execute_result"
        }
      ],
      "source": [
        "import nltk\n",
        "from nltk import FreqDist\n",
        "nltk.download('stopwords')"
      ]
    },
    {
      "cell_type": "code",
      "execution_count": null,
      "metadata": {
        "id": "M7QjBJpzrvEi",
        "outputId": "a826d570-2f3a-47ae-c71d-9da60a28d2a1"
      },
      "outputs": [
        {
          "name": "stderr",
          "output_type": "stream",
          "text": [
            "C:\\Users\\itsme\\anaconda3\\lib\\site-packages\\gensim\\similarities\\__init__.py:15: UserWarning: The gensim.similarities.levenshtein submodule is disabled, because the optional Levenshtein package <https://pypi.org/project/python-Levenshtein/> is unavailable. Install Levenhstein (e.g. `pip install python-Levenshtein`) to suppress this warning.\n",
            "  warnings.warn(msg)\n",
            "C:\\Users\\itsme\\anaconda3\\lib\\site-packages\\sklearn\\decomposition\\_lda.py:29: DeprecationWarning: `np.float` is a deprecated alias for the builtin `float`. To silence this warning, use `float` by itself. Doing this will not modify any behavior and is safe. If you specifically wanted the numpy scalar type, use `np.float64` here.\n",
            "Deprecated in NumPy 1.20; for more details and guidance: https://numpy.org/devdocs/release/1.20.0-notes.html#deprecations\n",
            "  EPS = np.finfo(np.float).eps\n"
          ]
        }
      ],
      "source": [
        "import pandas as pd\n",
        "pd.set_option(\"display.max_colwidth\", 200)\n",
        "import numpy as np\n",
        "import re\n",
        "import spacy\n",
        "\n",
        "import gensim\n",
        "from gensim import corpora\n",
        "\n",
        "\n",
        "import pyLDAvis\n",
        "import pyLDAvis.gensim_models\n",
        "import matplotlib.pyplot as plt\n",
        "import seaborn as sns\n",
        "%matplotlib inline"
      ]
    },
    {
      "cell_type": "code",
      "execution_count": null,
      "metadata": {
        "id": "jahvZAzcrvEl",
        "outputId": "ff67d0df-4e41-4e87-dcd8-43723046a1ff"
      },
      "outputs": [
        {
          "name": "stderr",
          "output_type": "stream",
          "text": [
            "C:\\Users\\itsme\\anaconda3\\lib\\site-packages\\ipykernel\\ipkernel.py:287: DeprecationWarning: `should_run_async` will not call `transform_cell` automatically in the future. Please pass the result to `transformed_cell` argument and any exception that happen during thetransform in `preprocessing_exc_tuple` in IPython 7.17 and above.\n",
            "  and should_run_async(code)\n"
          ]
        },
        {
          "data": {
            "text/plain": [
              "'4.0.1'"
            ]
          },
          "execution_count": 3,
          "metadata": {},
          "output_type": "execute_result"
        }
      ],
      "source": [
        "import gensim\n",
        "gensim.__version__"
      ]
    },
    {
      "cell_type": "code",
      "execution_count": null,
      "metadata": {
        "id": "9zBqqZbgrvEo",
        "outputId": "a58b0cb0-b5a8-4c4f-ad7f-e74ab6ca5d91"
      },
      "outputs": [
        {
          "name": "stderr",
          "output_type": "stream",
          "text": [
            "C:\\Users\\itsme\\anaconda3\\lib\\site-packages\\ipykernel\\ipkernel.py:287: DeprecationWarning: `should_run_async` will not call `transform_cell` automatically in the future. Please pass the result to `transformed_cell` argument and any exception that happen during thetransform in `preprocessing_exc_tuple` in IPython 7.17 and above.\n",
            "  and should_run_async(code)\n"
          ]
        }
      ],
      "source": [
        "from pandas.compat._optional import import_optional_dependency"
      ]
    },
    {
      "cell_type": "code",
      "execution_count": null,
      "metadata": {
        "id": "LAyoVXrhrvEq",
        "outputId": "8c73c4e6-2154-48d8-a3ea-65168c57550a"
      },
      "outputs": [
        {
          "name": "stderr",
          "output_type": "stream",
          "text": [
            "C:\\Users\\itsme\\anaconda3\\lib\\site-packages\\ipykernel\\ipkernel.py:287: DeprecationWarning: `should_run_async` will not call `transform_cell` automatically in the future. Please pass the result to `transformed_cell` argument and any exception that happen during thetransform in `preprocessing_exc_tuple` in IPython 7.17 and above.\n",
            "  and should_run_async(code)\n"
          ]
        },
        {
          "data": {
            "text/html": [
              "<div>\n",
              "<style scoped>\n",
              "    .dataframe tbody tr th:only-of-type {\n",
              "        vertical-align: middle;\n",
              "    }\n",
              "\n",
              "    .dataframe tbody tr th {\n",
              "        vertical-align: top;\n",
              "    }\n",
              "\n",
              "    .dataframe thead th {\n",
              "        text-align: right;\n",
              "    }\n",
              "</style>\n",
              "<table border=\"1\" class=\"dataframe\">\n",
              "  <thead>\n",
              "    <tr style=\"text-align: right;\">\n",
              "      <th></th>\n",
              "      <th>Name</th>\n",
              "      <th>reviewText</th>\n",
              "    </tr>\n",
              "  </thead>\n",
              "  <tbody>\n",
              "    <tr>\n",
              "      <th>0</th>\n",
              "      <td>a</td>\n",
              "      <td>Private hospitals run out of vaccines. Huge crowds, no social distancing at government vaccination centres</td>\n",
              "    </tr>\n",
              "    <tr>\n",
              "      <th>1</th>\n",
              "      <td>Dipesh Barot</td>\n",
              "      <td>You need to do alot of homework before you blindly oppose pfizer vaccine. There are people suffering from autoimmune disorders and they cannot take covishield or covaxin. Pfizer works best for suc...</td>\n",
              "    </tr>\n",
              "    <tr>\n",
              "      <th>2</th>\n",
              "      <td>b</td>\n",
              "      <td>Civic vaccination centres to be shut in Mumbai tomorrow July 21</td>\n",
              "    </tr>\n",
              "    <tr>\n",
              "      <th>3</th>\n",
              "      <td>Luv</td>\n",
              "      <td>- No precautions at all, whatsoever. No one wears masks(Even the people who are vaccinating)\\n- The lady who vaccinated me asked me wether it was my 1st shot or 2nd shot and wether my 1st was covi...</td>\n",
              "    </tr>\n",
              "    <tr>\n",
              "      <th>4</th>\n",
              "      <td>c</td>\n",
              "      <td>Results indicate that the pandemic is not over yet and we need to ramp up vaccination</td>\n",
              "    </tr>\n",
              "  </tbody>\n",
              "</table>\n",
              "</div>"
            ],
            "text/plain": [
              "           Name  \\\n",
              "0             a   \n",
              "1  Dipesh Barot   \n",
              "2             b   \n",
              "3           Luv   \n",
              "4             c   \n",
              "\n",
              "                                                                                                                                                                                                reviewText  \n",
              "0                                                                                               Private hospitals run out of vaccines. Huge crowds, no social distancing at government vaccination centres  \n",
              "1  You need to do alot of homework before you blindly oppose pfizer vaccine. There are people suffering from autoimmune disorders and they cannot take covishield or covaxin. Pfizer works best for suc...  \n",
              "2                                                                                                                                          Civic vaccination centres to be shut in Mumbai tomorrow July 21  \n",
              "3  - No precautions at all, whatsoever. No one wears masks(Even the people who are vaccinating)\\n- The lady who vaccinated me asked me wether it was my 1st shot or 2nd shot and wether my 1st was covi...  \n",
              "4                                                                                                                    Results indicate that the pandemic is not over yet and we need to ramp up vaccination  "
            ]
          },
          "execution_count": 5,
          "metadata": {},
          "output_type": "execute_result"
        }
      ],
      "source": [
        "df = pd.read_csv('Vaccines_new.csv')\n",
        "df.head()"
      ]
    },
    {
      "cell_type": "code",
      "execution_count": null,
      "metadata": {
        "id": "hHEHPoCwrvEs",
        "outputId": "827d1322-c705-4405-9879-017d736782b8"
      },
      "outputs": [
        {
          "name": "stderr",
          "output_type": "stream",
          "text": [
            "C:\\Users\\itsme\\anaconda3\\lib\\site-packages\\ipykernel\\ipkernel.py:287: DeprecationWarning: `should_run_async` will not call `transform_cell` automatically in the future. Please pass the result to `transformed_cell` argument and any exception that happen during thetransform in `preprocessing_exc_tuple` in IPython 7.17 and above.\n",
            "  and should_run_async(code)\n"
          ]
        }
      ],
      "source": [
        "#define a funcion here and call on next line\n",
        "def freq_words(x, terms = 30):\n",
        "  all_words = ' '.join([str(text) for text in x])\n",
        "  all_words = all_words.split()\n",
        "\n",
        "  fdist = FreqDist(all_words)\n",
        "  words_df = pd.DataFrame({'word':list(fdist.keys()), 'count':list(fdist.values())})\n",
        "  pd.DataFrame(words_df).to_csv('word_count3.csv', index=False)\n",
        "\n",
        "\n",
        "  d = words_df.nlargest(columns=\"count\", n = terms) \n",
        "  plt.figure(figsize=(30,5))\n",
        "  ax = sns.barplot(data=d, x= \"word\", y = \"count\")\n",
        "  ax.set(ylabel = 'Count')\n",
        "  plt.show()"
      ]
    },
    {
      "cell_type": "code",
      "execution_count": null,
      "metadata": {
        "id": "3Y8Ythf2rvEw",
        "outputId": "9d39882f-5a23-45e1-f382-5310ed9a39a8"
      },
      "outputs": [
        {
          "name": "stderr",
          "output_type": "stream",
          "text": [
            "C:\\Users\\itsme\\anaconda3\\lib\\site-packages\\ipykernel\\ipkernel.py:287: DeprecationWarning: `should_run_async` will not call `transform_cell` automatically in the future. Please pass the result to `transformed_cell` argument and any exception that happen during thetransform in `preprocessing_exc_tuple` in IPython 7.17 and above.\n",
            "  and should_run_async(code)\n"
          ]
        },
        {
          "data": {
            "image/png": "[encoded data removed]",
            "text/plain": [
              "<Figure size 2160x360 with 1 Axes>"
            ]
          },
          "metadata": {
            "needs_background": "light"
          },
          "output_type": "display_data"
        }
      ],
      "source": [
        "#function call to display freq words\n",
        "freq_words(df['reviewText'])"
      ]
    },
    {
      "cell_type": "code",
      "execution_count": null,
      "metadata": {
        "id": "ZpLrgVtxrvEz",
        "outputId": "14b17f4c-3aca-4310-e57f-5e7dc29c1c2d"
      },
      "outputs": [
        {
          "name": "stderr",
          "output_type": "stream",
          "text": [
            "C:\\Users\\itsme\\anaconda3\\lib\\site-packages\\ipykernel\\ipkernel.py:287: DeprecationWarning: `should_run_async` will not call `transform_cell` automatically in the future. Please pass the result to `transformed_cell` argument and any exception that happen during thetransform in `preprocessing_exc_tuple` in IPython 7.17 and above.\n",
            "  and should_run_async(code)\n",
            "<ipython-input-8-d68a350bdfec>:1: FutureWarning: The default value of regex will change from True to False in a future version.\n",
            "  df['reviewText'] = df['reviewText'].str.replace(\"[^a-zA-Z#]\", \" \")\n"
          ]
        }
      ],
      "source": [
        "df['reviewText'] = df['reviewText'].str.replace(\"[^a-zA-Z#]\", \" \")"
      ]
    },
    {
      "cell_type": "code",
      "execution_count": null,
      "metadata": {
        "id": "qR48ZFmUrvE2",
        "outputId": "e586623d-b23a-4c4f-a08c-3fa649fa4cb8"
      },
      "outputs": [
        {
          "name": "stderr",
          "output_type": "stream",
          "text": [
            "C:\\Users\\itsme\\anaconda3\\lib\\site-packages\\ipykernel\\ipkernel.py:287: DeprecationWarning: `should_run_async` will not call `transform_cell` automatically in the future. Please pass the result to `transformed_cell` argument and any exception that happen during thetransform in `preprocessing_exc_tuple` in IPython 7.17 and above.\n",
            "  and should_run_async(code)\n"
          ]
        }
      ],
      "source": [
        "from nltk.corpus import stopwords\n",
        "stop_words = stopwords.words('english')"
      ]
    },
    {
      "cell_type": "code",
      "execution_count": null,
      "metadata": {
        "id": "3s0ta2nLrvE5",
        "outputId": "b4e0ae32-baca-4cfd-da82-b4fa8562bd03"
      },
      "outputs": [
        {
          "name": "stderr",
          "output_type": "stream",
          "text": [
            "C:\\Users\\itsme\\anaconda3\\lib\\site-packages\\ipykernel\\ipkernel.py:287: DeprecationWarning: `should_run_async` will not call `transform_cell` automatically in the future. Please pass the result to `transformed_cell` argument and any exception that happen during thetransform in `preprocessing_exc_tuple` in IPython 7.17 and above.\n",
            "  and should_run_async(code)\n"
          ]
        }
      ],
      "source": [
        "# remove short words\n",
        "df['reviewText'] = df['reviewText'].apply(lambda x: ' '.join([w for w in str(x).split() if len(w)>2]))\n",
        "\n",
        "def remove_stopwords(rev):\n",
        "    rev_new = \" \".join([str(i) for i in rev if i not in stop_words])\n",
        "    return rev_new\n",
        "\n",
        "# remove stopwords\n",
        "reviews = [remove_stopwords(r.split()) for r in df['reviewText']]\n",
        "\n",
        "# make words to lowercase\n",
        "reviews = [r.lower() for r in reviews]"
      ]
    },
    {
      "cell_type": "code",
      "execution_count": null,
      "metadata": {
        "id": "H5oBj60IrvE8",
        "outputId": "eb4d88e0-5d24-460c-fba3-2be470693a8b"
      },
      "outputs": [
        {
          "name": "stderr",
          "output_type": "stream",
          "text": [
            "C:\\Users\\itsme\\anaconda3\\lib\\site-packages\\ipykernel\\ipkernel.py:287: DeprecationWarning: `should_run_async` will not call `transform_cell` automatically in the future. Please pass the result to `transformed_cell` argument and any exception that happen during thetransform in `preprocessing_exc_tuple` in IPython 7.17 and above.\n",
            "  and should_run_async(code)\n"
          ]
        },
        {
          "data": {
            "image/png": "[encoded data removed]",
            "text/plain": [
              "<Figure size 2160x360 with 1 Axes>"
            ]
          },
          "metadata": {
            "needs_background": "light"
          },
          "output_type": "display_data"
        }
      ],
      "source": [
        "freq_words(reviews, 35)"
      ]
    },
    {
      "cell_type": "code",
      "execution_count": null,
      "metadata": {
        "id": "eNZnFvdHrvE9",
        "outputId": "99998cf0-b102-4ac3-971c-2564db74e363"
      },
      "outputs": [
        {
          "name": "stderr",
          "output_type": "stream",
          "text": [
            "C:\\Users\\itsme\\anaconda3\\lib\\site-packages\\ipykernel\\ipkernel.py:287: DeprecationWarning: `should_run_async` will not call `transform_cell` automatically in the future. Please pass the result to `transformed_cell` argument and any exception that happen during thetransform in `preprocessing_exc_tuple` in IPython 7.17 and above.\n",
            "  and should_run_async(code)\n"
          ]
        },
        {
          "name": "stdout",
          "output_type": "stream",
          "text": [
            "Collecting en-core-web-sm==3.1.0\n",
            "  Downloading https://github.com/explosion/spacy-models/releases/download/en_core_web_sm-3.1.0/en_core_web_sm-3.1.0-py3-none-any.whl (13.6 MB)\n",
            "Requirement already satisfied: spacy<3.2.0,>=3.1.0 in c:\\users\\itsme\\anaconda3\\lib\\site-packages (from en-core-web-sm==3.1.0) (3.1.0)\n",
            "Requirement already satisfied: srsly<3.0.0,>=2.4.1 in c:\\users\\itsme\\anaconda3\\lib\\site-packages (from spacy<3.2.0,>=3.1.0->en-core-web-sm==3.1.0) (2.4.1)\n",
            "Requirement already satisfied: blis<0.8.0,>=0.4.0 in c:\\users\\itsme\\anaconda3\\lib\\site-packages (from spacy<3.2.0,>=3.1.0->en-core-web-sm==3.1.0) (0.7.4)\n",
            "Requirement already satisfied: murmurhash<1.1.0,>=0.28.0 in c:\\users\\itsme\\anaconda3\\lib\\site-packages (from spacy<3.2.0,>=3.1.0->en-core-web-sm==3.1.0) (1.0.5)\n",
            "Requirement already satisfied: thinc<8.1.0,>=8.0.7 in c:\\users\\itsme\\anaconda3\\lib\\site-packages (from spacy<3.2.0,>=3.1.0->en-core-web-sm==3.1.0) (8.0.7)\n",
            "Requirement already satisfied: cymem<2.1.0,>=2.0.2 in c:\\users\\itsme\\anaconda3\\lib\\site-packages (from spacy<3.2.0,>=3.1.0->en-core-web-sm==3.1.0) (2.0.5)\n",
            "Requirement already satisfied: wasabi<1.1.0,>=0.8.1 in c:\\users\\itsme\\anaconda3\\lib\\site-packages (from spacy<3.2.0,>=3.1.0->en-core-web-sm==3.1.0) (0.8.2)\n",
            "Requirement already satisfied: pathy>=0.3.5 in c:\\users\\itsme\\anaconda3\\lib\\site-packages (from spacy<3.2.0,>=3.1.0->en-core-web-sm==3.1.0) (0.6.0)\n",
            "Requirement already satisfied: pydantic!=1.8,!=1.8.1,<1.9.0,>=1.7.4 in c:\\users\\itsme\\anaconda3\\lib\\site-packages (from spacy<3.2.0,>=3.1.0->en-core-web-sm==3.1.0) (1.8.2)\n",
            "Requirement already satisfied: spacy-legacy<3.1.0,>=3.0.7 in c:\\users\\itsme\\anaconda3\\lib\\site-packages (from spacy<3.2.0,>=3.1.0->en-core-web-sm==3.1.0) (3.0.8)\n",
            "Requirement already satisfied: packaging>=20.0 in c:\\users\\itsme\\anaconda3\\lib\\site-packages (from spacy<3.2.0,>=3.1.0->en-core-web-sm==3.1.0) (20.4)\n",
            "Requirement already satisfied: numpy>=1.15.0 in c:\\users\\itsme\\anaconda3\\lib\\site-packages (from spacy<3.2.0,>=3.1.0->en-core-web-sm==3.1.0) (1.20.1)\n",
            "Requirement already satisfied: jinja2 in c:\\users\\itsme\\anaconda3\\lib\\site-packages (from spacy<3.2.0,>=3.1.0->en-core-web-sm==3.1.0) (2.11.2)\n",
            "Requirement already satisfied: typer<0.4.0,>=0.3.0 in c:\\users\\itsme\\anaconda3\\lib\\site-packages (from spacy<3.2.0,>=3.1.0->en-core-web-sm==3.1.0) (0.3.2)\n",
            "Requirement already satisfied: requests<3.0.0,>=2.13.0 in c:\\users\\itsme\\anaconda3\\lib\\site-packages (from spacy<3.2.0,>=3.1.0->en-core-web-sm==3.1.0) (2.24.0)\n",
            "Requirement already satisfied: setuptools in c:\\users\\itsme\\anaconda3\\lib\\site-packages (from spacy<3.2.0,>=3.1.0->en-core-web-sm==3.1.0) (50.3.1.post20201107)\n",
            "Requirement already satisfied: tqdm<5.0.0,>=4.38.0 in c:\\users\\itsme\\anaconda3\\lib\\site-packages (from spacy<3.2.0,>=3.1.0->en-core-web-sm==3.1.0) (4.50.2)\n",
            "Requirement already satisfied: catalogue<2.1.0,>=2.0.4 in c:\\users\\itsme\\anaconda3\\lib\\site-packages (from spacy<3.2.0,>=3.1.0->en-core-web-sm==3.1.0) (2.0.4)\n",
            "Requirement already satisfied: preshed<3.1.0,>=3.0.2 in c:\\users\\itsme\\anaconda3\\lib\\site-packages (from spacy<3.2.0,>=3.1.0->en-core-web-sm==3.1.0) (3.0.5)\n",
            "Requirement already satisfied: six in c:\\users\\itsme\\anaconda3\\lib\\site-packages (from packaging>=20.0->spacy<3.2.0,>=3.1.0->en-core-web-sm==3.1.0) (1.15.0)\n",
            "Requirement already satisfied: pyparsing>=2.0.2 in c:\\users\\itsme\\anaconda3\\lib\\site-packages (from packaging>=20.0->spacy<3.2.0,>=3.1.0->en-core-web-sm==3.1.0) (2.4.7)\n",
            "Requirement already satisfied: smart-open<6.0.0,>=5.0.0 in c:\\users\\itsme\\anaconda3\\lib\\site-packages (from pathy>=0.3.5->spacy<3.2.0,>=3.1.0->en-core-web-sm==3.1.0) (5.1.0)\n",
            "Requirement already satisfied: typing-extensions>=3.7.4.3 in c:\\users\\itsme\\anaconda3\\lib\\site-packages (from pydantic!=1.8,!=1.8.1,<1.9.0,>=1.7.4->spacy<3.2.0,>=3.1.0->en-core-web-sm==3.1.0) (3.7.4.3)\n",
            "Requirement already satisfied: idna<3,>=2.5 in c:\\users\\itsme\\anaconda3\\lib\\site-packages (from requests<3.0.0,>=2.13.0->spacy<3.2.0,>=3.1.0->en-core-web-sm==3.1.0) (2.10)\n",
            "Requirement already satisfied: certifi>=2017.4.17 in c:\\users\\itsme\\anaconda3\\lib\\site-packages (from requests<3.0.0,>=2.13.0->spacy<3.2.0,>=3.1.0->en-core-web-sm==3.1.0) (2020.6.20)\n",
            "Requirement already satisfied: urllib3!=1.25.0,!=1.25.1,<1.26,>=1.21.1 in c:\\users\\itsme\\anaconda3\\lib\\site-packages (from requests<3.0.0,>=2.13.0->spacy<3.2.0,>=3.1.0->en-core-web-sm==3.1.0) (1.25.11)\n",
            "Requirement already satisfied: chardet<4,>=3.0.2 in c:\\users\\itsme\\anaconda3\\lib\\site-packages (from requests<3.0.0,>=2.13.0->spacy<3.2.0,>=3.1.0->en-core-web-sm==3.1.0) (3.0.4)\n",
            "Requirement already satisfied: click<7.2.0,>=7.1.1 in c:\\users\\itsme\\anaconda3\\lib\\site-packages (from typer<0.4.0,>=0.3.0->spacy<3.2.0,>=3.1.0->en-core-web-sm==3.1.0) (7.1.2)\n",
            "Requirement already satisfied: MarkupSafe>=0.23 in c:\\users\\itsme\\anaconda3\\lib\\site-packages (from jinja2->spacy<3.2.0,>=3.1.0->en-core-web-sm==3.1.0) (1.1.1)\n",
            "[!] As of spaCy v3.0, shortcuts like 'en' are deprecated. Please use the full\n",
            "pipeline package name 'en_core_web_sm' instead.\n",
            "[+] Download and installation successful\n",
            "You can now load the package via spacy.load('en_core_web_sm')\n"
          ]
        },
        {
          "name": "stderr",
          "output_type": "stream",
          "text": [
            "WARNING: You are using pip version 21.1.2; however, version 21.1.3 is available.\n",
            "You should consider upgrading via the 'C:\\Users\\itsme\\anaconda3\\python.exe -m pip install --upgrade pip' command.\n"
          ]
        }
      ],
      "source": [
        "!python -m spacy download en"
      ]
    },
    {
      "cell_type": "code",
      "execution_count": null,
      "metadata": {
        "id": "1jPcfHBprvE_",
        "outputId": "c0634682-3c2e-44e1-e41b-0473b84b3ebe"
      },
      "outputs": [
        {
          "name": "stderr",
          "output_type": "stream",
          "text": [
            "C:\\Users\\itsme\\anaconda3\\lib\\site-packages\\ipykernel\\ipkernel.py:287: DeprecationWarning: `should_run_async` will not call `transform_cell` automatically in the future. Please pass the result to `transformed_cell` argument and any exception that happen during thetransform in `preprocessing_exc_tuple` in IPython 7.17 and above.\n",
            "  and should_run_async(code)\n"
          ]
        }
      ],
      "source": [
        "nlp = spacy.load('en_core_web_sm', disable=['parser', 'ner'])\n",
        "\n",
        "def lemmatization(texts, tags=['NOUN', 'ADJ']): # filter noun and adjective\n",
        "       output = []\n",
        "       for sent in texts:\n",
        "             doc = nlp(\" \".join(sent)) \n",
        "             output.append([token.lemma_ for token in doc if token.pos_ in tags])\n",
        "       return output"
      ]
    },
    {
      "cell_type": "code",
      "execution_count": null,
      "metadata": {
        "id": "LzDagdJWrvFB",
        "outputId": "d53eb093-4914-4a59-88ce-9fba41e27809"
      },
      "outputs": [
        {
          "name": "stdout",
          "output_type": "stream",
          "text": [
            "['you', 'need', 'alot', 'homework', 'blindly', 'oppose', 'pfizer', 'vaccine', 'there', 'people', 'suffering', 'autoimmune', 'disorders', 'cannot', 'take', 'covishield', 'covaxin', 'pfizer', 'works', 'best', 'patients', 'hence', 'advised', 'doctors']\n"
          ]
        },
        {
          "name": "stderr",
          "output_type": "stream",
          "text": [
            "C:\\Users\\itsme\\anaconda3\\lib\\site-packages\\ipykernel\\ipkernel.py:287: DeprecationWarning: `should_run_async` will not call `transform_cell` automatically in the future. Please pass the result to `transformed_cell` argument and any exception that happen during thetransform in `preprocessing_exc_tuple` in IPython 7.17 and above.\n",
            "  and should_run_async(code)\n"
          ]
        }
      ],
      "source": [
        "tokenized_reviews = pd.Series(reviews).apply(lambda x: x.split())\n",
        "print(tokenized_reviews[1])"
      ]
    },
    {
      "cell_type": "code",
      "execution_count": null,
      "metadata": {
        "id": "e6deFruZrvFC",
        "outputId": "6e5d281a-9de9-4571-cf97-fff2de6c3b3d"
      },
      "outputs": [
        {
          "name": "stderr",
          "output_type": "stream",
          "text": [
            "C:\\Users\\itsme\\anaconda3\\lib\\site-packages\\ipykernel\\ipkernel.py:287: DeprecationWarning: `should_run_async` will not call `transform_cell` automatically in the future. Please pass the result to `transformed_cell` argument and any exception that happen during thetransform in `preprocessing_exc_tuple` in IPython 7.17 and above.\n",
            "  and should_run_async(code)\n"
          ]
        },
        {
          "name": "stdout",
          "output_type": "stream",
          "text": [
            "['alot', 'homework', 'pfizer', 'vaccine', 'people', 'autoimmune', 'disorder', 'covishield', 'covaxin', 'pfizer', 'good', 'patient', 'doctor']\n"
          ]
        }
      ],
      "source": [
        "reviews_2 = lemmatization(tokenized_reviews)\n",
        "print(reviews_2[1]) # print lemmatized review"
      ]
    },
    {
      "cell_type": "code",
      "execution_count": null,
      "metadata": {
        "id": "jKmfdAnmrvFD",
        "outputId": "cfd34a52-5d51-4c8d-a266-4fe2727407d5"
      },
      "outputs": [
        {
          "name": "stderr",
          "output_type": "stream",
          "text": [
            "C:\\Users\\itsme\\anaconda3\\lib\\site-packages\\ipykernel\\ipkernel.py:287: DeprecationWarning: `should_run_async` will not call `transform_cell` automatically in the future. Please pass the result to `transformed_cell` argument and any exception that happen during thetransform in `preprocessing_exc_tuple` in IPython 7.17 and above.\n",
            "  and should_run_async(code)\n"
          ]
        },
        {
          "data": {
            "image/png": "[encoded data removed]",
            "text/plain": [
              "<Figure size 2160x360 with 1 Axes>"
            ]
          },
          "metadata": {
            "needs_background": "light"
          },
          "output_type": "display_data"
        }
      ],
      "source": [
        "reviews_3 = []\n",
        "for i in range(len(reviews_2)):\n",
        "    reviews_3.append(' '.join(reviews_2[i]))\n",
        "\n",
        "df['reviews'] = reviews_3\n",
        "\n",
        "freq_words(df['reviews'], 35)"
      ]
    },
    {
      "cell_type": "code",
      "execution_count": null,
      "metadata": {
        "id": "8jGQScfBrvFF",
        "outputId": "eb730210-9f0e-43f4-80b5-e0609445db30"
      },
      "outputs": [
        {
          "name": "stderr",
          "output_type": "stream",
          "text": [
            "C:\\Users\\itsme\\anaconda3\\lib\\site-packages\\ipykernel\\ipkernel.py:287: DeprecationWarning: `should_run_async` will not call `transform_cell` automatically in the future. Please pass the result to `transformed_cell` argument and any exception that happen during thetransform in `preprocessing_exc_tuple` in IPython 7.17 and above.\n",
            "  and should_run_async(code)\n"
          ]
        }
      ],
      "source": [
        "dictionary = corpora.Dictionary(reviews_2)"
      ]
    },
    {
      "cell_type": "code",
      "execution_count": null,
      "metadata": {
        "id": "StztP_dmrvFG",
        "outputId": "03c5fdc0-ccbf-4dc0-ebd7-3fa5e3eff650"
      },
      "outputs": [
        {
          "name": "stderr",
          "output_type": "stream",
          "text": [
            "C:\\Users\\itsme\\anaconda3\\lib\\site-packages\\ipykernel\\ipkernel.py:287: DeprecationWarning: `should_run_async` will not call `transform_cell` automatically in the future. Please pass the result to `transformed_cell` argument and any exception that happen during thetransform in `preprocessing_exc_tuple` in IPython 7.17 and above.\n",
            "  and should_run_async(code)\n"
          ]
        }
      ],
      "source": [
        "doc_term_matrix = [dictionary.doc2bow(rev) for rev in reviews_2]"
      ]
    },
    {
      "cell_type": "code",
      "execution_count": null,
      "metadata": {
        "id": "dmUUWa_orvFH",
        "outputId": "614a3d1e-ee2f-4ffa-9431-a00aaa7054c3"
      },
      "outputs": [
        {
          "name": "stderr",
          "output_type": "stream",
          "text": [
            "C:\\Users\\itsme\\anaconda3\\lib\\site-packages\\ipykernel\\ipkernel.py:287: DeprecationWarning: `should_run_async` will not call `transform_cell` automatically in the future. Please pass the result to `transformed_cell` argument and any exception that happen during thetransform in `preprocessing_exc_tuple` in IPython 7.17 and above.\n",
            "  and should_run_async(code)\n"
          ]
        }
      ],
      "source": [
        "LDA = gensim.models.ldamodel.LdaModel\n",
        "\n",
        "# Build LDA model\n",
        "lda_model = LDA(corpus=doc_term_matrix, id2word=dictionary, num_topics=8, random_state=100,\n",
        "                chunksize=10, passes=50)"
      ]
    },
    {
      "cell_type": "code",
      "execution_count": null,
      "metadata": {
        "id": "ftdSz-PMrvFJ",
        "outputId": "3012cdf4-30cc-4ebb-c33e-69bd519e0939"
      },
      "outputs": [
        {
          "name": "stderr",
          "output_type": "stream",
          "text": [
            "C:\\Users\\itsme\\anaconda3\\lib\\site-packages\\ipykernel\\ipkernel.py:287: DeprecationWarning: `should_run_async` will not call `transform_cell` automatically in the future. Please pass the result to `transformed_cell` argument and any exception that happen during thetransform in `preprocessing_exc_tuple` in IPython 7.17 and above.\n",
            "  and should_run_async(code)\n"
          ]
        },
        {
          "name": "stdout",
          "output_type": "stream",
          "text": [
            "\n",
            "Coherence Score:  0.4240211057407409\n"
          ]
        }
      ],
      "source": [
        "from gensim.models import CoherenceModel\n",
        "# Compute Coherence Score\n",
        "coherence_model_lda = CoherenceModel(model=lda_model, texts=reviews_2, dictionary=dictionary, coherence='c_v')\n",
        "coherence_lda = coherence_model_lda.get_coherence()\n",
        "print('\\nCoherence Score: ', coherence_lda)"
      ]
    },
    {
      "cell_type": "code",
      "execution_count": null,
      "metadata": {
        "id": "4A2pdzyJrvFK",
        "outputId": "579ad62d-e81c-42e1-eb34-7208b6afd78a"
      },
      "outputs": [
        {
          "name": "stderr",
          "output_type": "stream",
          "text": [
            "C:\\Users\\itsme\\anaconda3\\lib\\site-packages\\ipykernel\\ipkernel.py:287: DeprecationWarning: `should_run_async` will not call `transform_cell` automatically in the future. Please pass the result to `transformed_cell` argument and any exception that happen during thetransform in `preprocessing_exc_tuple` in IPython 7.17 and above.\n",
            "  and should_run_async(code)\n"
          ]
        }
      ],
      "source": [
        "def compute_coherence_values(corpus, dictionary, k, a, b):\n",
        "    \n",
        "    lda_model = gensim.models.LdaMulticore(corpus=corpus,\n",
        "                                           id2word=dictionary,\n",
        "                                           num_topics=k, \n",
        "                                           random_state=100,\n",
        "                                           chunksize=100,\n",
        "                                           passes=10,\n",
        "                                           alpha=a,\n",
        "                                           eta=b)\n",
        "    \n",
        "    coherence_model_lda = CoherenceModel(model=lda_model, texts=reviews_2, dictionary=dictionary, coherence='c_v')\n",
        "    \n",
        "    return coherence_model_lda.get_coherence()"
      ]
    },
    {
      "cell_type": "code",
      "execution_count": null,
      "metadata": {
        "id": "Pi97GVSzrvFN",
        "outputId": "00819cad-f30d-4604-cb59-9ac06c472387"
      },
      "outputs": [
        {
          "name": "stderr",
          "output_type": "stream",
          "text": [
            "C:\\Users\\itsme\\anaconda3\\lib\\site-packages\\ipykernel\\ipkernel.py:287: DeprecationWarning: `should_run_async` will not call `transform_cell` automatically in the future. Please pass the result to `transformed_cell` argument and any exception that happen during thetransform in `preprocessing_exc_tuple` in IPython 7.17 and above.\n",
            "  and should_run_async(code)\n",
            " 89%|███████████████████████████████████████████████████████████████████████         | 480/540 [30:56<03:52,  3.87s/it]\n"
          ]
        }
      ],
      "source": [
        "import tqdm\n",
        "grid = {}\n",
        "grid['Validation_Set'] = {}\n",
        "# Topics range\n",
        "min_topics = 2\n",
        "max_topics = 10\n",
        "step_size = 1\n",
        "topics_range = range(min_topics, max_topics, step_size)\n",
        "# Alpha parameter\n",
        "alpha = list(np.arange(0.01, 1, 0.3))\n",
        "alpha.append('symmetric')\n",
        "alpha.append('asymmetric')\n",
        "# Beta parameter\n",
        "beta = list(np.arange(0.01, 1, 0.3))\n",
        "beta.append('symmetric')\n",
        "# Validation sets\n",
        "num_of_docs = len(doc_term_matrix)\n",
        "corpus_sets = [# gensim.utils.ClippedCorpus(corpus, num_of_docs*0.25), \n",
        "               # gensim.utils.ClippedCorpus(corpus, num_of_docs*0.5), \n",
        "               gensim.utils.ClippedCorpus(doc_term_matrix, num_of_docs*0.75), \n",
        "               doc_term_matrix]\n",
        "corpus_title = ['75% Corpus', '100% Corpus']\n",
        "model_results = {'Validation_Set': [],\n",
        "                 'Topics': [],\n",
        "                 'Alpha': [],\n",
        "                 'Beta': [],\n",
        "                 'Coherence': []\n",
        "                }\n",
        "# Can take a long time to run\n",
        "if 1 == 1:\n",
        "    pbar = tqdm.tqdm(total=540)\n",
        "    \n",
        "    # iterate through validation corpuses\n",
        "    for i in range(len(corpus_sets)):\n",
        "        # iterate through number of topics\n",
        "        for k in topics_range:\n",
        "            # iterate through alpha values\n",
        "            for a in alpha:\n",
        "                # iterare through beta values\n",
        "                for b in beta:\n",
        "                    # get the coherence score for the given parameters\n",
        "                    cv = compute_coherence_values(corpus=doc_term_matrix, dictionary=dictionary, \n",
        "                                                  k=k, a=a, b=b)\n",
        "                    # Save the model results\n",
        "                    model_results['Validation_Set'].append(corpus_title[i])\n",
        "                    model_results['Topics'].append(k)\n",
        "                    model_results['Alpha'].append(a)\n",
        "                    model_results['Beta'].append(b)\n",
        "                    model_results['Coherence'].append(cv)\n",
        "                    \n",
        "                    pbar.update(1)\n",
        "    pd.DataFrame(model_results).to_csv('lda_tuning_results.csv', index=False)\n",
        "    pbar.close()"
      ]
    },
    {
      "cell_type": "code",
      "execution_count": null,
      "metadata": {
        "id": "r7UyiOOprvFP",
        "outputId": "0694dd3b-fbe9-445c-90c7-74107dd2af8e"
      },
      "outputs": [
        {
          "name": "stderr",
          "output_type": "stream",
          "text": [
            "C:\\Users\\itsme\\anaconda3\\lib\\site-packages\\ipykernel\\ipkernel.py:287: DeprecationWarning: `should_run_async` will not call `transform_cell` automatically in the future. Please pass the result to `transformed_cell` argument and any exception that happen during thetransform in `preprocessing_exc_tuple` in IPython 7.17 and above.\n",
            "  and should_run_async(code)\n"
          ]
        },
        {
          "data": {
            "text/html": [
              "<div>\n",
              "<style scoped>\n",
              "    .dataframe tbody tr th:only-of-type {\n",
              "        vertical-align: middle;\n",
              "    }\n",
              "\n",
              "    .dataframe tbody tr th {\n",
              "        vertical-align: top;\n",
              "    }\n",
              "\n",
              "    .dataframe thead th {\n",
              "        text-align: right;\n",
              "    }\n",
              "</style>\n",
              "<table border=\"1\" class=\"dataframe\">\n",
              "  <thead>\n",
              "    <tr style=\"text-align: right;\">\n",
              "      <th></th>\n",
              "      <th>Validation_Set</th>\n",
              "      <th>Topics</th>\n",
              "      <th>Alpha</th>\n",
              "      <th>Beta</th>\n",
              "      <th>Coherence</th>\n",
              "    </tr>\n",
              "  </thead>\n",
              "  <tbody>\n",
              "    <tr>\n",
              "      <th>207</th>\n",
              "      <td>75% Corpus</td>\n",
              "      <td>8</td>\n",
              "      <td>asymmetric</td>\n",
              "      <td>0.61</td>\n",
              "      <td>0.520259</td>\n",
              "    </tr>\n",
              "    <tr>\n",
              "      <th>447</th>\n",
              "      <td>100% Corpus</td>\n",
              "      <td>8</td>\n",
              "      <td>asymmetric</td>\n",
              "      <td>0.61</td>\n",
              "      <td>0.520259</td>\n",
              "    </tr>\n",
              "    <tr>\n",
              "      <th>58</th>\n",
              "      <td>75% Corpus</td>\n",
              "      <td>3</td>\n",
              "      <td>asymmetric</td>\n",
              "      <td>0.9099999999999999</td>\n",
              "      <td>0.517997</td>\n",
              "    </tr>\n",
              "    <tr>\n",
              "      <th>298</th>\n",
              "      <td>100% Corpus</td>\n",
              "      <td>3</td>\n",
              "      <td>asymmetric</td>\n",
              "      <td>0.9099999999999999</td>\n",
              "      <td>0.517997</td>\n",
              "    </tr>\n",
              "    <tr>\n",
              "      <th>60</th>\n",
              "      <td>75% Corpus</td>\n",
              "      <td>4</td>\n",
              "      <td>0.01</td>\n",
              "      <td>0.01</td>\n",
              "      <td>0.501109</td>\n",
              "    </tr>\n",
              "    <tr>\n",
              "      <th>330</th>\n",
              "      <td>100% Corpus</td>\n",
              "      <td>5</td>\n",
              "      <td>0.01</td>\n",
              "      <td>0.01</td>\n",
              "      <td>0.500610</td>\n",
              "    </tr>\n",
              "    <tr>\n",
              "      <th>300</th>\n",
              "      <td>100% Corpus</td>\n",
              "      <td>4</td>\n",
              "      <td>0.01</td>\n",
              "      <td>0.01</td>\n",
              "      <td>0.500202</td>\n",
              "    </tr>\n",
              "    <tr>\n",
              "      <th>448</th>\n",
              "      <td>100% Corpus</td>\n",
              "      <td>8</td>\n",
              "      <td>asymmetric</td>\n",
              "      <td>0.9099999999999999</td>\n",
              "      <td>0.499563</td>\n",
              "    </tr>\n",
              "    <tr>\n",
              "      <th>208</th>\n",
              "      <td>75% Corpus</td>\n",
              "      <td>8</td>\n",
              "      <td>asymmetric</td>\n",
              "      <td>0.9099999999999999</td>\n",
              "      <td>0.499563</td>\n",
              "    </tr>\n",
              "    <tr>\n",
              "      <th>301</th>\n",
              "      <td>100% Corpus</td>\n",
              "      <td>4</td>\n",
              "      <td>0.01</td>\n",
              "      <td>0.31</td>\n",
              "      <td>0.498874</td>\n",
              "    </tr>\n",
              "    <tr>\n",
              "      <th>61</th>\n",
              "      <td>75% Corpus</td>\n",
              "      <td>4</td>\n",
              "      <td>0.01</td>\n",
              "      <td>0.31</td>\n",
              "      <td>0.498874</td>\n",
              "    </tr>\n",
              "    <tr>\n",
              "      <th>90</th>\n",
              "      <td>75% Corpus</td>\n",
              "      <td>5</td>\n",
              "      <td>0.01</td>\n",
              "      <td>0.01</td>\n",
              "      <td>0.491738</td>\n",
              "    </tr>\n",
              "    <tr>\n",
              "      <th>427</th>\n",
              "      <td>100% Corpus</td>\n",
              "      <td>8</td>\n",
              "      <td>0.31</td>\n",
              "      <td>0.61</td>\n",
              "      <td>0.491299</td>\n",
              "    </tr>\n",
              "    <tr>\n",
              "      <th>187</th>\n",
              "      <td>75% Corpus</td>\n",
              "      <td>8</td>\n",
              "      <td>0.31</td>\n",
              "      <td>0.61</td>\n",
              "      <td>0.491299</td>\n",
              "    </tr>\n",
              "    <tr>\n",
              "      <th>236</th>\n",
              "      <td>75% Corpus</td>\n",
              "      <td>9</td>\n",
              "      <td>asymmetric</td>\n",
              "      <td>0.31</td>\n",
              "      <td>0.489969</td>\n",
              "    </tr>\n",
              "    <tr>\n",
              "      <th>476</th>\n",
              "      <td>100% Corpus</td>\n",
              "      <td>9</td>\n",
              "      <td>asymmetric</td>\n",
              "      <td>0.31</td>\n",
              "      <td>0.489969</td>\n",
              "    </tr>\n",
              "    <tr>\n",
              "      <th>334</th>\n",
              "      <td>100% Corpus</td>\n",
              "      <td>5</td>\n",
              "      <td>0.01</td>\n",
              "      <td>symmetric</td>\n",
              "      <td>0.489678</td>\n",
              "    </tr>\n",
              "    <tr>\n",
              "      <th>268</th>\n",
              "      <td>100% Corpus</td>\n",
              "      <td>2</td>\n",
              "      <td>asymmetric</td>\n",
              "      <td>0.9099999999999999</td>\n",
              "      <td>0.488132</td>\n",
              "    </tr>\n",
              "    <tr>\n",
              "      <th>28</th>\n",
              "      <td>75% Corpus</td>\n",
              "      <td>2</td>\n",
              "      <td>asymmetric</td>\n",
              "      <td>0.9099999999999999</td>\n",
              "      <td>0.488132</td>\n",
              "    </tr>\n",
              "    <tr>\n",
              "      <th>266</th>\n",
              "      <td>100% Corpus</td>\n",
              "      <td>2</td>\n",
              "      <td>asymmetric</td>\n",
              "      <td>0.31</td>\n",
              "      <td>0.486640</td>\n",
              "    </tr>\n",
              "  </tbody>\n",
              "</table>\n",
              "</div>"
            ],
            "text/plain": [
              "    Validation_Set  Topics       Alpha                Beta  Coherence\n",
              "207     75% Corpus       8  asymmetric                0.61   0.520259\n",
              "447    100% Corpus       8  asymmetric                0.61   0.520259\n",
              "58      75% Corpus       3  asymmetric  0.9099999999999999   0.517997\n",
              "298    100% Corpus       3  asymmetric  0.9099999999999999   0.517997\n",
              "60      75% Corpus       4        0.01                0.01   0.501109\n",
              "330    100% Corpus       5        0.01                0.01   0.500610\n",
              "300    100% Corpus       4        0.01                0.01   0.500202\n",
              "448    100% Corpus       8  asymmetric  0.9099999999999999   0.499563\n",
              "208     75% Corpus       8  asymmetric  0.9099999999999999   0.499563\n",
              "301    100% Corpus       4        0.01                0.31   0.498874\n",
              "61      75% Corpus       4        0.01                0.31   0.498874\n",
              "90      75% Corpus       5        0.01                0.01   0.491738\n",
              "427    100% Corpus       8        0.31                0.61   0.491299\n",
              "187     75% Corpus       8        0.31                0.61   0.491299\n",
              "236     75% Corpus       9  asymmetric                0.31   0.489969\n",
              "476    100% Corpus       9  asymmetric                0.31   0.489969\n",
              "334    100% Corpus       5        0.01           symmetric   0.489678\n",
              "268    100% Corpus       2  asymmetric  0.9099999999999999   0.488132\n",
              "28      75% Corpus       2  asymmetric  0.9099999999999999   0.488132\n",
              "266    100% Corpus       2  asymmetric                0.31   0.486640"
            ]
          },
          "execution_count": 26,
          "metadata": {},
          "output_type": "execute_result"
        }
      ],
      "source": [
        "re = pd.read_csv('lda_tuning_results.csv')\n",
        "re.sort_values(by=['Coherence'],ascending=[False]).head(20)\n"
      ]
    },
    {
      "cell_type": "code",
      "execution_count": null,
      "metadata": {
        "id": "yMiCw2gDrvFR",
        "outputId": "a758455b-1515-4a1b-ac5d-2699fc3e2d42"
      },
      "outputs": [
        {
          "name": "stderr",
          "output_type": "stream",
          "text": [
            "C:\\Users\\itsme\\anaconda3\\lib\\site-packages\\ipykernel\\ipkernel.py:287: DeprecationWarning: `should_run_async` will not call `transform_cell` automatically in the future. Please pass the result to `transformed_cell` argument and any exception that happen during thetransform in `preprocessing_exc_tuple` in IPython 7.17 and above.\n",
            "  and should_run_async(code)\n"
          ]
        }
      ],
      "source": [
        "LDA = gensim.models.ldamodel.LdaModel\n",
        "\n",
        "# Build LDA model\n",
        "lda_model = LDA(corpus=doc_term_matrix, id2word=dictionary, num_topics=8, random_state=100,\n",
        "                chunksize=10, passes=50,alpha='asymmetric',eta=0.61)"
      ]
    },
    {
      "cell_type": "code",
      "execution_count": null,
      "metadata": {
        "id": "h97Q6wzErvFS",
        "outputId": "07083ea2-7e76-4dbd-fe7a-c566dcaeeae7"
      },
      "outputs": [
        {
          "name": "stderr",
          "output_type": "stream",
          "text": [
            "C:\\Users\\itsme\\anaconda3\\lib\\site-packages\\ipykernel\\ipkernel.py:287: DeprecationWarning: `should_run_async` will not call `transform_cell` automatically in the future. Please pass the result to `transformed_cell` argument and any exception that happen during thetransform in `preprocessing_exc_tuple` in IPython 7.17 and above.\n",
            "  and should_run_async(code)\n"
          ]
        },
        {
          "data": {
            "text/plain": [
              "[(0,\n",
              "  '0.036*\"vaccine\" + 0.020*\"covaxin\" + 0.017*\"family\" + 0.015*\"covid\" + 0.014*\"cent\" + 0.014*\"person\" + 0.014*\"freedom\" + 0.012*\"available\" + 0.012*\"other\" + 0.012*\"risk\"'),\n",
              " (1,\n",
              "  '0.009*\"vaccination\" + 0.009*\"official\" + 0.009*\"chimp\" + 0.009*\"aware\" + 0.009*\"nationalistic\" + 0.009*\"vacci\" + 0.009*\"fact\" + 0.009*\"record\" + 0.009*\"wrong\" + 0.009*\"mom\"'),\n",
              " (2,\n",
              "  '0.028*\"vaccine\" + 0.017*\"covishield\" + 0.017*\"covaxin\" + 0.011*\"severity\" + 0.010*\"variant\" + 0.010*\"delta\" + 0.010*\"efficacy\" + 0.007*\"reduction\" + 0.007*\"patient\" + 0.007*\"protection\"'),\n",
              " (3,\n",
              "  '0.023*\"vaccinated\" + 0.022*\"covid\" + 0.020*\"death\" + 0.019*\"week\" + 0.018*\"hospital\" + 0.017*\"last\" + 0.015*\"people\" + 0.014*\"covaxin\" + 0.013*\"case\" + 0.011*\"chain\"'),\n",
              " (4,\n",
              "  '0.018*\"person\" + 0.017*\"story\" + 0.013*\"vaccine\" + 0.011*\"number\" + 0.010*\"mainstream\" + 0.010*\"share\" + 0.010*\"thousand\" + 0.010*\"medium\" + 0.010*\"horrendous\" + 0.010*\"experience\"'),\n",
              " (5,\n",
              "  '0.015*\"marketing\" + 0.015*\"dance\" + 0.015*\"cat\" + 0.009*\"integration\" + 0.009*\"internal\" + 0.009*\"brand\" + 0.009*\"touchpoint\" + 0.009*\"mind\" + 0.009*\"product\" + 0.009*\"strategy\"'),\n",
              " (6,\n",
              "  '0.015*\"katihar\" + 0.014*\"covid\" + 0.009*\"bit\" + 0.009*\"request\" + 0.009*\"little\" + 0.009*\"tense\" + 0.009*\"home\" + 0.009*\"administrative\" + 0.009*\"district\" + 0.009*\"vaccination\"'),\n",
              " (7,\n",
              "  '0.038*\"covishield\" + 0.035*\"covaxin\" + 0.026*\"pfizer\" + 0.018*\"vaccine\" + 0.013*\"people\" + 0.009*\"study\" + 0.009*\"patient\" + 0.008*\"restriction\" + 0.007*\"simple\" + 0.007*\"plain\"')]"
            ]
          },
          "execution_count": 29,
          "metadata": {},
          "output_type": "execute_result"
        }
      ],
      "source": [
        "lda_model.print_topics()"
      ]
    },
    {
      "cell_type": "code",
      "execution_count": null,
      "metadata": {
        "id": "S9GuTpq4rvFS",
        "outputId": "181927a8-b55a-456f-f815-9253a4e04bca"
      },
      "outputs": [
        {
          "name": "stderr",
          "output_type": "stream",
          "text": [
            "C:\\Users\\itsme\\anaconda3\\lib\\site-packages\\ipykernel\\ipkernel.py:287: DeprecationWarning: `should_run_async` will not call `transform_cell` automatically in the future. Please pass the result to `transformed_cell` argument and any exception that happen during thetransform in `preprocessing_exc_tuple` in IPython 7.17 and above.\n",
            "  and should_run_async(code)\n"
          ]
        },
        {
          "data": {
            "text/html": [
              "\n",
              "<link rel=\"stylesheet\" type=\"text/css\" href=\"https://cdn.jsdelivr.net/gh/bmabey/pyLDAvis@3.3.0/pyLDAvis/js/ldavis.v1.0.0.css\">\n",
              "\n",
              "\n",
              "<div id=\"ldavis_el1898017507663307046699994100\"></div>\n",
              "<script type=\"text/javascript\">\n",
              "\n",
              "var ldavis_el1898017507663307046699994100_data = {\"mdsDat\": {\"x\": [-0.017177428747385145, -0.022136436271216944, -0.034939806176429285, -0.00401728304479445, 0.05649624948485096, 0.0070182411638859635, 0.00925824973426322, 0.005498213856825673], \"y\": [0.020406874335256397, 0.029150641126299507, -0.05023576484748638, 0.018463522704959684, -0.011421330379059711, 0.00219460487811716, -0.002209808786623528, -0.006348739031463069], \"topics\": [1, 2, 3, 4, 5, 6, 7, 8], \"cluster\": [1, 1, 1, 1, 1, 1, 1, 1], \"Freq\": [20.27458770846248, 19.708994462537103, 18.099587541931157, 13.582833028331287, 10.498433747467317, 7.734938767191545, 6.551903003130528, 3.5487217409485847]}, \"tinfo\": {\"Term\": [\"covishield\", \"vaccine\", \"covid\", \"person\", \"pfizer\", \"katihar\", \"story\", \"covaxin\", \"vaccination\", \"vaccinated\", \"week\", \"marketing\", \"cat\", \"dance\", \"family\", \"death\", \"last\", \"home\", \"district\", \"little\", \"request\", \"tense\", \"administrative\", \"bit\", \"case\", \"number\", \"medium\", \"experience\", \"experimental\", \"mainstream\", \"cent\", \"family\", \"available\", \"other\", \"freedom\", \"government\", \"healthcare\", \"worker\", \"person\", \"decision\", \"individual\", \"huge\", \"risk\", \"vaccine\", \"class\", \"fix\", \"month\", \"paper\", \"process\", \"student\", \"medical\", \"distance\", \"hand\", \"important\", \"physical\", \"indian\", \"many\", \"astra\", \"base\", \"hesitancy\", \"dose\", \"covid\", \"covaxin\", \"vaccination\", \"covishield\", \"people\", \"friend\", \"pfizer\", \"covishield\", \"study\", \"restriction\", \"covaxin\", \"but\", \"nod\", \"period\", \"plain\", \"simple\", \"patient\", \"chadox\", \"clinical\", \"outcome\", \"profile\", \"bjp\", \"congress\", \"new\", \"sphere\", \"able\", \"foreign\", \"sputnik\", \"booster\", \"chief\", \"dangerous\", \"doc\", \"enough\", \"scientist\", \"trend\", \"vice\", \"people\", \"country\", \"vaccine\", \"cohort\", \"hospital\", \"vaccinated\", \"friend\", \"week\", \"last\", \"vaccinated\", \"death\", \"case\", \"hospital\", \"chain\", \"today\", \"day\", \"double\", \"danusia\", \"covid\", \"concern\", \"daily\", \"decline\", \"deterrent\", \"free\", \"inoculation\", \"op\", \"price\", \"sense\", \"sharp\", \"urgency\", \"wait\", \"willing\", \"appointment\", \"second\", \"entire\", \"application\", \"approval\", \"people\", \"many\", \"covaxin\", \"risk\", \"shot\", \"severity\", \"delta\", \"efficacy\", \"variant\", \"comparable\", \"disease\", \"mortality\", \"preliminary\", \"protection\", \"alternative\", \"fate\", \"lifetime\", \"salk\", \"thinking\", \"data\", \"evidence\", \"infection\", \"limited\", \"real\", \"rna\", \"well\", \"flu\", \"reduction\", \"efficient\", \"point\", \"primary\", \"same\", \"separate\", \"test\", \"effective\", \"vaccine\", \"covishield\", \"covaxin\", \"result\", \"patient\", \"vaccination\", \"world\", \"dose\", \"pfizer\", \"marketing\", \"cat\", \"dance\", \"alignment\", \"brand\", \"communication\", \"company\", \"employee\", \"first\", \"idea\", \"integration\", \"internal\", \"mind\", \"org\", \"product\", \"strategy\", \"touchpoint\", \"#\", \"actor\", \"anniversary\", \"big\", \"bollywood\", \"film\", \"mistake\", \"popular\", \"rakesh\", \"amendment\", \"constitution\", \"force\", \"land\", \"story\", \"number\", \"experience\", \"experimental\", \"horrendous\", \"mainstream\", \"medium\", \"share\", \"thousand\", \"person\", \"anecdotal\", \"assumption\", \"conclusion\", \"science\", \"small\", \"chance\", \"immunosuppressed\", \"poss\", \"covidshield\", \"european\", \"immunity\", \"maximum\", \"mix\", \"positive\", \"good\", \"country\", \"result\", \"case\", \"covidvaccine\", \"sick\", \"covid\", \"vaccine\", \"pfizer\", \"aware\", \"chimp\", \"fact\", \"nationalistic\", \"vacci\", \"mom\", \"perungudi\", \"record\", \"wrong\", \"beautiful\", \"early\", \"morning\", \"sunrise\", \"wakeup\", \"official\", \"indian\", \"civic\", \"mumbai\", \"tomorrow\", \"ramp\", \"medical\", \"vaccination\", \"centre\", \"pandemic\", \"result\", \"covidvaccine\", \"sick\", \"administrative\", \"bit\", \"district\", \"covaxin\", \"danusia\", \"covid\", \"risk\", \"freedom\", \"katihar\", \"administrative\", \"bit\", \"district\", \"home\", \"little\", \"request\", \"tense\", \"covidvaccine\", \"sick\", \"vaccination\", \"covid\", \"civic\", \"mumbai\", \"tomorrow\", \"ramp\", \"covidshield\", \"european\", \"immunity\", \"maximum\", \"mix\", \"positive\", \"anecdotal\", \"assumption\", \"conclusion\", \"science\", \"small\", \"chance\", \"immunosuppressed\", \"poss\", \"covaxin\", \"danusia\", \"risk\", \"freedom\", \"pro\", \"vaccine\", \"people\", \"today\", \"death\", \"flu\", \"result\", \"dose\", \"vaccinated\", \"world\", \"friend\", \"many\", \"official\", \"centre\"], \"Freq\": [6.0, 8.0, 4.0, 2.0, 3.0, 1.0, 1.0, 8.0, 2.0, 3.0, 2.0, 1.0, 1.0, 1.0, 2.0, 3.0, 2.0, 1.0, 1.0, 1.0, 1.0, 1.0, 1.0, 1.0, 2.0, 1.0, 1.0, 1.0, 1.0, 1.0, 1.3451128418144984, 1.7093573235008028, 1.216646167616352, 1.158229560139031, 1.3341123480348422, 1.0202422665123816, 0.9709180260576161, 0.9709180260576161, 1.334199168304934, 0.777738538395095, 0.777738538395095, 0.7821124522125593, 1.1554815615059901, 3.522092913446219, 0.654937709328257, 0.654937709328257, 0.654937709328257, 0.654937709328257, 0.654937709328257, 0.654937709328257, 0.778360171528952, 0.596719646100172, 0.596719646100172, 0.596719646100172, 0.596719646100172, 0.6555332049913284, 0.9171490447229432, 0.5287934316601859, 0.5287934316601859, 0.5287934316601859, 0.8431788143330805, 1.4801188187559553, 1.9339564271812213, 0.7101039029779801, 0.7023858551360977, 0.5985777369647725, 0.5984732327765093, 2.5165202358350465, 3.6534417538054917, 0.870497752991017, 0.7772305522447608, 3.318824804765386, 0.6499380093800549, 0.6499380093800549, 0.6499380093800549, 0.6499380093800549, 0.6499380093800549, 0.8330334477001611, 0.5922270466146827, 0.5922270466146827, 0.5922270466146827, 0.5922270466146827, 0.5921185726216447, 0.5921185726216447, 0.5921185726216447, 0.5921185726216447, 0.5421639001397971, 0.5421639001397971, 0.5421639001397971, 0.4990591248915388, 0.4990591248915388, 0.4990591248915388, 0.4990591248915388, 0.4990591248915388, 0.4990591248915388, 0.4990591248915388, 0.4990591248915388, 1.2583634391737915, 0.6080255152321796, 1.6845550926117758, 0.5917675202191139, 0.5914771013139202, 0.6076425691658481, 0.5415111461153521, 1.6618772199188863, 1.4684121757809958, 2.05003745774724, 1.770321780654735, 1.1758235767490341, 1.5513153464632892, 0.9450196020515086, 0.9188445356765027, 0.8942559852982688, 0.7182233628939108, 0.6747037834034183, 1.9009467259415669, 0.569196431124722, 0.569196431124722, 0.569196431124722, 0.569196431124722, 0.569196431124722, 0.569196431124722, 0.569196431124722, 0.569196431124722, 0.569196431124722, 0.569196431124722, 0.569196431124722, 0.569196431124722, 0.569196431124722, 0.5689228333979311, 0.5689228333979311, 0.5689065162530502, 0.5621766322255007, 0.5621766322255007, 1.3296519099851585, 0.8899269651756359, 1.1855703784864793, 0.6772765892225175, 0.5691994905893872, 0.7140356254997348, 0.6802220386308666, 0.6802220386308666, 0.6802220386308666, 0.4628408240108363, 0.4628408240108363, 0.4628408240108363, 0.4628408240108363, 0.4628408240108363, 0.4511892108668773, 0.4511892108668773, 0.4511892108668773, 0.4511892108668773, 0.4511892108668773, 0.4237577299684597, 0.4237577299684597, 0.4237577299684597, 0.4237577299684597, 0.4237577299684597, 0.4237577299684597, 0.4237577299684597, 0.4231558478160638, 0.46285805912867356, 0.3899512147021145, 0.3899512147021145, 0.3899512147021145, 0.3899512147021145, 0.3899512147021145, 0.3899512147021145, 0.3606816987946943, 1.8685207793178673, 1.1194825581094772, 1.1189632392125115, 0.46283390547330305, 0.4628566509307686, 0.46224993192469904, 0.42382363975301324, 0.4624971624960204, 0.4237633933730776, 0.7443256792604017, 0.7442270586417965, 0.7442270586417965, 0.4342771717421665, 0.4342771717421665, 0.4342771717421665, 0.4342771717421665, 0.4342771717421665, 0.4342771717421665, 0.4342771717421665, 0.4342771717421665, 0.4342771717421665, 0.4342771717421665, 0.4342771717421665, 0.4342771717421665, 0.4342771717421665, 0.4342771717421665, 0.4342332089040263, 0.4342332089040263, 0.4342332089040263, 0.4342332089040263, 0.4342332089040263, 0.4342332089040263, 0.4342332089040263, 0.4342332089040263, 0.4342332089040263, 0.43421607806720525, 0.43421607806720525, 0.43421607806720525, 0.43421607806720525, 0.6342640187098938, 0.3933085103207311, 0.3700524914059441, 0.3700524914059441, 0.3700524914059441, 0.3700524914059441, 0.3700524914059441, 0.3700524914059441, 0.3700524914059441, 0.6569717694590358, 0.2599371624391433, 0.2599371624391433, 0.2599371624391433, 0.2599371624391433, 0.2599371624391433, 0.259850851606453, 0.259850851606453, 0.259850851606453, 0.23922144688084132, 0.23922144688084132, 0.23922144688084132, 0.23922144688084132, 0.23922144688084132, 0.23922144688084132, 0.2599374588003139, 0.23915840911654968, 0.23917059479056513, 0.2599325949905137, 0.10592156562389772, 0.10592156562389772, 0.3692134057668718, 0.5014430309551553, 0.2392043450979956, 0.27782347985839845, 0.27782347985839845, 0.27782347985839845, 0.27782347985839845, 0.27782347985839845, 0.2778233026581993, 0.2778233026581993, 0.2778233026581993, 0.2778233026581993, 0.27780735464027845, 0.27780735464027845, 0.27780735464027845, 0.27780735464027845, 0.27780735464027845, 0.27796075094598405, 0.2776676322832717, 0.19725734199246464, 0.19725734199246464, 0.19725734199246464, 0.19723833727110893, 0.2776588904067817, 0.2999482537201253, 0.19713492618823866, 0.1970893562036981, 0.19737334905615572, 0.09447437476136072, 0.09447437476136072, 0.09445084405158581, 0.09445084405158581, 0.09445084405158581, 0.27645073944917603, 0.09456614969782205, 0.0945374506489061, 0.094528671855708, 0.09452257321552159, 0.26330686427793826, 0.15858983153729275, 0.15858983153729275, 0.15858983153729275, 0.15858983153729275, 0.15858983153729275, 0.15858983153729275, 0.15858983153729275, 0.13221440367447615, 0.13221440367447615, 0.15835507097226093, 0.2363746638880857, 0.05390335958020494, 0.05390335958020494, 0.05390335958020494, 0.05390335958020494, 0.05390335558114925, 0.05390335558114925, 0.05390335558114925, 0.05390335558114925, 0.05390335558114925, 0.05390335558114925, 0.05390335958020494, 0.05390335958020494, 0.05390335958020494, 0.05390335958020494, 0.05390335958020494, 0.05390336357926062, 0.05390336357926062, 0.05390336357926062, 0.15808438289093982, 0.05390339157265043, 0.05390337957548337, 0.05390337957548337, 0.05390337957548337, 0.05390337557642768, 0.05390337557642768, 0.05390337557642768, 0.05390337557642768, 0.05390337557642768, 0.053903367578316305, 0.053903367578316305, 0.053903367578316305, 0.053903367578316305, 0.053903367578316305, 0.053903367578316305, 0.053903367578316305, 0.05390336357926062], \"Total\": [6.0, 8.0, 4.0, 2.0, 3.0, 1.0, 1.0, 8.0, 2.0, 3.0, 2.0, 1.0, 1.0, 1.0, 2.0, 3.0, 2.0, 1.0, 1.0, 1.0, 1.0, 1.0, 1.0, 1.0, 2.0, 1.0, 1.0, 1.0, 1.0, 1.0, 2.3107808598782444, 2.9838520849147354, 2.1868768283036566, 2.128659746329014, 2.4799505952072147, 1.9859094768579917, 1.9365853241732756, 1.9365853241732756, 2.8509440507352704, 1.7434119364891951, 1.7434119364891951, 1.7544533599446246, 2.605071915224753, 8.211001705776802, 1.6206083723869837, 1.6206083723869837, 1.6206083723869837, 1.6206083723869837, 1.6206083723869837, 1.6206083723869837, 1.9272416575749536, 1.5623884992928603, 1.5623884992928603, 1.5623884992928603, 1.5623884992928603, 1.8044234706698559, 2.5878120481037747, 1.5118858256275578, 1.5118858256275578, 1.5118858256275578, 2.4714762571376654, 4.717279842109649, 8.222067997858385, 2.275306423251886, 6.290218794297208, 3.7378944490028414, 2.1942572694475984, 3.918136300541165, 6.290218794297208, 1.8378831697113804, 1.7445818255015326, 8.222067997858385, 1.617468547230704, 1.617468547230704, 1.617468547230704, 1.617468547230704, 1.617468547230704, 2.0906945601183873, 1.5596805031424228, 1.5596805031424228, 1.5596805031424228, 1.5596805031424228, 1.5596656848712525, 1.5596656848712525, 1.5596656848712525, 1.5596656848712525, 1.5096581492232548, 1.5096581492232548, 1.5096581492232548, 1.4663962542638096, 1.4663962542638096, 1.4663962542638096, 1.4663962542638096, 1.4663962542638096, 1.4663962542638096, 1.4663962542638096, 1.4663962542638096, 3.7378944490028414, 1.9228421539322471, 8.211001705776802, 1.9338471150032288, 3.1605199737824865, 3.647261423602005, 2.1942572694475984, 2.6579602006297085, 2.465093094496537, 3.647261423602005, 3.3417624903192333, 2.3248734707847576, 3.1605199737824865, 1.9398809533056978, 1.9143324548934293, 1.8892816078009875, 1.713201320442799, 1.6707824768135904, 4.717279842109649, 1.564048676857181, 1.564048676857181, 1.564048676857181, 1.564048676857181, 1.564048676857181, 1.564048676857181, 1.564048676857181, 1.564048676857181, 1.564048676857181, 1.564048676857181, 1.564048676857181, 1.564048676857181, 1.564048676857181, 1.5640542920176443, 1.5640542920176443, 1.5640459231494113, 1.5650777206804778, 1.5650777206804778, 3.7378944490028414, 2.5878120481037747, 8.222067997858385, 2.605071915224753, 1.8422152326278411, 1.7296854444275562, 1.6958645740794294, 1.6958645740794294, 1.6958645740794294, 1.4784986973241274, 1.4784986973241274, 1.4784986973241274, 1.4784986973241274, 1.4784986973241274, 1.4799032547428241, 1.4799032547428241, 1.4799032547428241, 1.4799032547428241, 1.4799032547428241, 1.4394166449416004, 1.4394166449416004, 1.4394166449416004, 1.4394166449416004, 1.4394166449416004, 1.4394166449416004, 1.4394166449416004, 1.4395058195330908, 1.6593721645697166, 1.4055955848975135, 1.4055955848975135, 1.4055955848975135, 1.4055955848975135, 1.4055955848975135, 1.4055955848975135, 1.3763308891729584, 8.211001705776802, 6.290218794297208, 8.222067997858385, 1.992947591157256, 2.0906945601183873, 2.275306423251886, 1.8152267357978085, 2.4714762571376654, 3.918136300541165, 1.8083726326714187, 1.8084269665346122, 1.8084269665346122, 1.4983133428424324, 1.4983133428424324, 1.4983133428424324, 1.4983133428424324, 1.4983133428424324, 1.4983133428424324, 1.4983133428424324, 1.4983133428424324, 1.4983133428424324, 1.4983133428424324, 1.4983133428424324, 1.4983133428424324, 1.4983133428424324, 1.4983133428424324, 1.4983382019953424, 1.4983382019953424, 1.4983382019953424, 1.4983382019953424, 1.4983382019953424, 1.4983382019953424, 1.4983382019953424, 1.4983382019953424, 1.4983382019953424, 1.4983487694657227, 1.4983487694657227, 1.4983487694657227, 1.4983487694657227, 1.7167409907172702, 1.4757084549920196, 1.4525134232863117, 1.4525134232863117, 1.4525134232863117, 1.4525134232863117, 1.4525134232863117, 1.4525134232863117, 1.4525134232863117, 2.8509440507352704, 1.3423800227094291, 1.3423800227094291, 1.3423800227094291, 1.3423800227094291, 1.3423800227094291, 1.3424524276232708, 1.3424524276232708, 1.3424524276232708, 1.3216075220737387, 1.3216075220737387, 1.3216075220737387, 1.3216075220737387, 1.3216075220737387, 1.3216075220737387, 1.5830933602826598, 1.9228421539322471, 1.992947591157256, 2.3248734707847576, 1.2669229000577822, 1.2669229000577822, 4.717279842109649, 8.211001705776802, 3.918136300541165, 1.371810526320108, 1.371810526320108, 1.371810526320108, 1.371810526320108, 1.371810526320108, 1.3718113758741513, 1.3718113758741513, 1.3718113758741513, 1.3718113758741513, 1.3718315032902066, 1.3718315032902066, 1.3718315032902066, 1.3718315032902066, 1.3718315032902066, 1.7475234326109075, 1.8044234706698559, 1.2911964198608237, 1.2911964198608237, 1.2911964198608237, 1.2912212812973574, 1.9272416575749536, 2.275306423251886, 1.53383589287313, 1.5338956994516248, 1.992947591157256, 1.2669229000577822, 1.2669229000577822, 1.2930302707048615, 1.2930302707048615, 1.2930302707048615, 8.222067997858385, 1.6707824768135904, 4.717279842109649, 2.605071915224753, 2.4799505952072147, 1.397760853084188, 1.2930302707048615, 1.2930302707048615, 1.2930302707048615, 1.2930302707048615, 1.2930302707048615, 1.2930302707048615, 1.2930302707048615, 1.2669229000577822, 1.2669229000577822, 2.275306423251886, 4.717279842109649, 1.2911964198608237, 1.2911964198608237, 1.2911964198608237, 1.2912212812973574, 1.3216075220737387, 1.3216075220737387, 1.3216075220737387, 1.3216075220737387, 1.3216075220737387, 1.3216075220737387, 1.3423800227094291, 1.3423800227094291, 1.3423800227094291, 1.3423800227094291, 1.3423800227094291, 1.3424524276232708, 1.3424524276232708, 1.3424524276232708, 8.222067997858385, 1.6707824768135904, 2.605071915224753, 2.4799505952072147, 1.469655228859959, 8.211001705776802, 3.7378944490028414, 1.9143324548934293, 3.3417624903192333, 1.4395058195330908, 1.992947591157256, 2.4714762571376654, 3.647261423602005, 1.8152267357978085, 2.1942572694475984, 2.5878120481037747, 1.7475234326109075, 1.53383589287313], \"Category\": [\"Default\", \"Default\", \"Default\", \"Default\", \"Default\", \"Default\", \"Default\", \"Default\", \"Default\", \"Default\", \"Default\", \"Default\", \"Default\", \"Default\", \"Default\", \"Default\", \"Default\", \"Default\", \"Default\", \"Default\", \"Default\", \"Default\", \"Default\", \"Default\", \"Default\", \"Default\", \"Default\", \"Default\", \"Default\", \"Default\", \"Topic1\", \"Topic1\", \"Topic1\", \"Topic1\", \"Topic1\", \"Topic1\", \"Topic1\", \"Topic1\", \"Topic1\", \"Topic1\", \"Topic1\", \"Topic1\", \"Topic1\", \"Topic1\", \"Topic1\", \"Topic1\", \"Topic1\", \"Topic1\", \"Topic1\", \"Topic1\", \"Topic1\", \"Topic1\", \"Topic1\", \"Topic1\", \"Topic1\", \"Topic1\", \"Topic1\", \"Topic1\", \"Topic1\", \"Topic1\", \"Topic1\", \"Topic1\", \"Topic1\", \"Topic1\", \"Topic1\", \"Topic1\", \"Topic1\", \"Topic2\", \"Topic2\", \"Topic2\", \"Topic2\", \"Topic2\", \"Topic2\", \"Topic2\", \"Topic2\", \"Topic2\", \"Topic2\", \"Topic2\", \"Topic2\", \"Topic2\", \"Topic2\", \"Topic2\", \"Topic2\", \"Topic2\", \"Topic2\", \"Topic2\", \"Topic2\", \"Topic2\", \"Topic2\", \"Topic2\", \"Topic2\", \"Topic2\", \"Topic2\", \"Topic2\", \"Topic2\", \"Topic2\", \"Topic2\", \"Topic2\", \"Topic2\", \"Topic2\", \"Topic2\", \"Topic2\", \"Topic2\", \"Topic2\", \"Topic3\", \"Topic3\", \"Topic3\", \"Topic3\", \"Topic3\", \"Topic3\", \"Topic3\", \"Topic3\", \"Topic3\", \"Topic3\", \"Topic3\", \"Topic3\", \"Topic3\", \"Topic3\", \"Topic3\", \"Topic3\", \"Topic3\", \"Topic3\", \"Topic3\", \"Topic3\", \"Topic3\", \"Topic3\", \"Topic3\", \"Topic3\", \"Topic3\", \"Topic3\", \"Topic3\", \"Topic3\", \"Topic3\", \"Topic3\", \"Topic3\", \"Topic3\", \"Topic3\", \"Topic3\", \"Topic3\", \"Topic4\", \"Topic4\", \"Topic4\", \"Topic4\", \"Topic4\", \"Topic4\", \"Topic4\", \"Topic4\", \"Topic4\", \"Topic4\", \"Topic4\", \"Topic4\", \"Topic4\", \"Topic4\", \"Topic4\", \"Topic4\", \"Topic4\", \"Topic4\", \"Topic4\", \"Topic4\", \"Topic4\", \"Topic4\", \"Topic4\", \"Topic4\", \"Topic4\", \"Topic4\", \"Topic4\", \"Topic4\", \"Topic4\", \"Topic4\", \"Topic4\", \"Topic4\", \"Topic4\", \"Topic4\", \"Topic4\", \"Topic4\", \"Topic4\", \"Topic4\", \"Topic4\", \"Topic5\", \"Topic5\", \"Topic5\", \"Topic5\", \"Topic5\", \"Topic5\", \"Topic5\", \"Topic5\", \"Topic5\", \"Topic5\", \"Topic5\", \"Topic5\", \"Topic5\", \"Topic5\", \"Topic5\", \"Topic5\", \"Topic5\", \"Topic5\", \"Topic5\", \"Topic5\", \"Topic5\", \"Topic5\", \"Topic5\", \"Topic5\", \"Topic5\", \"Topic5\", \"Topic5\", \"Topic5\", \"Topic5\", \"Topic5\", \"Topic6\", \"Topic6\", \"Topic6\", \"Topic6\", \"Topic6\", \"Topic6\", \"Topic6\", \"Topic6\", \"Topic6\", \"Topic6\", \"Topic6\", \"Topic6\", \"Topic6\", \"Topic6\", \"Topic6\", \"Topic6\", \"Topic6\", \"Topic6\", \"Topic6\", \"Topic6\", \"Topic6\", \"Topic6\", \"Topic6\", \"Topic6\", \"Topic6\", \"Topic6\", \"Topic6\", \"Topic6\", \"Topic6\", \"Topic6\", \"Topic6\", \"Topic6\", \"Topic6\", \"Topic7\", \"Topic7\", \"Topic7\", \"Topic7\", \"Topic7\", \"Topic7\", \"Topic7\", \"Topic7\", \"Topic7\", \"Topic7\", \"Topic7\", \"Topic7\", \"Topic7\", \"Topic7\", \"Topic7\", \"Topic7\", \"Topic7\", \"Topic7\", \"Topic7\", \"Topic7\", \"Topic7\", \"Topic7\", \"Topic7\", \"Topic7\", \"Topic7\", \"Topic7\", \"Topic7\", \"Topic7\", \"Topic7\", \"Topic7\", \"Topic7\", \"Topic7\", \"Topic7\", \"Topic7\", \"Topic7\", \"Topic8\", \"Topic8\", \"Topic8\", \"Topic8\", \"Topic8\", \"Topic8\", \"Topic8\", \"Topic8\", \"Topic8\", \"Topic8\", \"Topic8\", \"Topic8\", \"Topic8\", \"Topic8\", \"Topic8\", \"Topic8\", \"Topic8\", \"Topic8\", \"Topic8\", \"Topic8\", \"Topic8\", \"Topic8\", \"Topic8\", \"Topic8\", \"Topic8\", \"Topic8\", \"Topic8\", \"Topic8\", \"Topic8\", \"Topic8\", \"Topic8\", \"Topic8\", \"Topic8\", \"Topic8\", \"Topic8\", \"Topic8\", \"Topic8\", \"Topic8\", \"Topic8\", \"Topic8\", \"Topic8\", \"Topic8\", \"Topic8\", \"Topic8\", \"Topic8\", \"Topic8\", \"Topic8\", \"Topic8\"], \"logprob\": [30.0, 29.0, 28.0, 27.0, 26.0, 25.0, 24.0, 23.0, 22.0, 21.0, 20.0, 19.0, 18.0, 17.0, 16.0, 15.0, 14.0, 13.0, 12.0, 11.0, 10.0, 9.0, 8.0, 7.0, 6.0, 5.0, 4.0, 3.0, 2.0, 1.0, -4.2898, -4.0502, -4.3902, -4.4394, -4.298, -4.5662, -4.6158, -4.6158, -4.298, -4.8376, -4.8376, -4.832, -4.4418, -3.3272, -5.0095, -5.0095, -5.0095, -5.0095, -5.0095, -5.0095, -4.8368, -5.1026, -5.1026, -5.1026, -5.1026, -5.0086, -4.6728, -5.2234, -5.2234, -5.2234, -4.7569, -4.1942, -3.9267, -4.9286, -4.9396, -5.0995, -5.0997, -3.6351, -3.2623, -4.6967, -4.81, -3.3584, -4.9889, -4.9889, -4.9889, -4.9889, -4.9889, -4.7407, -5.0819, -5.0819, -5.0819, -5.0819, -5.082, -5.082, -5.082, -5.082, -5.1702, -5.1702, -5.1702, -5.253, -5.253, -5.253, -5.253, -5.253, -5.253, -5.253, -5.253, -4.3282, -5.0555, -4.0365, -5.0826, -5.0831, -5.0562, -5.1714, -3.9649, -4.0886, -3.7549, -3.9016, -4.3108, -4.0337, -4.5294, -4.5574, -4.5846, -4.8038, -4.8663, -3.8305, -5.0363, -5.0363, -5.0363, -5.0363, -5.0363, -5.0363, -5.0363, -5.0363, -5.0363, -5.0363, -5.0363, -5.0363, -5.0363, -5.0368, -5.0368, -5.0368, -5.0487, -5.0487, -4.1879, -4.5894, -4.3026, -4.8625, -5.0363, -4.5225, -4.5711, -4.5711, -4.5711, -4.9561, -4.9561, -4.9561, -4.9561, -4.9561, -4.9816, -4.9816, -4.9816, -4.9816, -4.9816, -5.0443, -5.0443, -5.0443, -5.0443, -5.0443, -5.0443, -5.0443, -5.0457, -4.9561, -5.1275, -5.1275, -5.1275, -5.1275, -5.1275, -5.1275, -5.2055, -3.5606, -4.0729, -4.0733, -4.9561, -4.9561, -4.9574, -5.0442, -4.9568, -5.0443, -4.2234, -4.2235, -4.2235, -4.7622, -4.7622, -4.7622, -4.7622, -4.7622, -4.7622, -4.7622, -4.7622, -4.7622, -4.7622, -4.7622, -4.7622, -4.7622, -4.7622, -4.7623, -4.7623, -4.7623, -4.7623, -4.7623, -4.7623, -4.7623, -4.7623, -4.7623, -4.7624, -4.7624, -4.7624, -4.7624, -4.078, -4.5558, -4.6168, -4.6168, -4.6168, -4.6168, -4.6168, -4.6168, -4.6168, -4.0428, -4.97, -4.97, -4.97, -4.97, -4.97, -4.9703, -4.9703, -4.9703, -5.053, -5.053, -5.053, -5.053, -5.053, -5.053, -4.97, -5.0533, -5.0532, -4.97, -5.8677, -5.8677, -4.619, -4.3129, -5.0531, -4.7374, -4.7374, -4.7374, -4.7374, -4.7374, -4.7374, -4.7374, -4.7374, -4.7374, -4.7375, -4.7375, -4.7375, -4.7375, -4.7375, -4.7369, -4.738, -5.0799, -5.0799, -5.0799, -5.08, -4.738, -4.6608, -5.0805, -5.0808, -5.0793, -5.8161, -5.8161, -5.8163, -5.8163, -5.8163, -4.7424, -5.8151, -5.8154, -5.8155, -5.8156, -4.1779, -4.6849, -4.6849, -4.6849, -4.6849, -4.6849, -4.6849, -4.6849, -4.8668, -4.8668, -4.6864, -4.2858, -5.7641, -5.7641, -5.7641, -5.7641, -5.7641, -5.7641, -5.7641, -5.7641, -5.7641, -5.7641, -5.7641, -5.7641, -5.7641, -5.7641, -5.7641, -5.7641, -5.7641, -5.7641, -4.6881, -5.7641, -5.7641, -5.7641, -5.7641, -5.7641, -5.7641, -5.7641, -5.7641, -5.7641, -5.7641, -5.7641, -5.7641, -5.7641, -5.7641, -5.7641, -5.7641, -5.7641], \"loglift\": [30.0, 29.0, 28.0, 27.0, 26.0, 25.0, 24.0, 23.0, 22.0, 21.0, 20.0, 19.0, 18.0, 17.0, 16.0, 15.0, 14.0, 13.0, 12.0, 11.0, 10.0, 9.0, 8.0, 7.0, 6.0, 5.0, 4.0, 3.0, 2.0, 1.0, 1.0547, 1.0387, 1.0094, 0.9872, 0.9758, 0.9298, 0.9054, 0.9054, 0.8365, 0.7886, 0.7886, 0.7879, 0.7829, 0.7494, 0.6898, 0.6898, 0.6898, 0.6898, 0.6898, 0.6898, 0.6891, 0.6333, 0.6333, 0.6333, 0.6333, 0.5833, 0.5585, 0.5453, 0.5453, 0.5453, 0.5204, 0.4367, 0.1485, 0.4313, -0.5965, -0.2359, 0.2966, 1.1814, 1.0808, 0.8768, 0.8156, 0.7169, 0.7124, 0.7124, 0.7124, 0.7124, 0.7124, 0.7039, 0.6557, 0.6557, 0.6557, 0.6557, 0.6556, 0.6556, 0.6556, 0.6556, 0.6, 0.6, 0.6, 0.5463, 0.5463, 0.5463, 0.5463, 0.5463, 0.5463, 0.5463, 0.5463, 0.5354, 0.4728, 0.0401, 0.4399, -0.0518, -0.168, 0.2249, 1.2397, 1.1912, 1.1332, 1.0739, 1.0276, 0.9976, 0.9901, 0.9753, 0.9613, 0.8399, 0.8025, 0.8004, 0.6985, 0.6985, 0.6985, 0.6985, 0.6985, 0.6985, 0.6985, 0.6985, 0.6985, 0.6985, 0.6985, 0.6985, 0.6985, 0.698, 0.698, 0.698, 0.6854, 0.6854, 0.6757, 0.6419, -0.2273, 0.3621, 0.5348, 1.1116, 1.0828, 1.0828, 1.0828, 0.835, 0.835, 0.835, 0.835, 0.835, 0.8085, 0.8085, 0.8085, 0.8085, 0.8085, 0.7735, 0.7735, 0.7735, 0.7735, 0.7735, 0.7735, 0.7735, 0.772, 0.7196, 0.7142, 0.7142, 0.7142, 0.7142, 0.7142, 0.7142, 0.6572, 0.516, 0.2702, 0.0019, 0.5364, 0.4885, 0.4026, 0.5417, 0.3204, -0.2278, 1.3662, 1.3661, 1.3661, 1.0155, 1.0155, 1.0155, 1.0155, 1.0155, 1.0155, 1.0155, 1.0155, 1.0155, 1.0155, 1.0155, 1.0155, 1.0155, 1.0155, 1.0154, 1.0154, 1.0154, 1.0154, 1.0154, 1.0154, 1.0154, 1.0154, 1.0154, 1.0154, 1.0154, 1.0154, 1.0154, 1.5637, 1.2371, 1.192, 1.192, 1.192, 1.192, 1.192, 1.192, 1.192, 1.0917, 0.9177, 0.9177, 0.9177, 0.9177, 0.9177, 0.9173, 0.9173, 0.9173, 0.8502, 0.8502, 0.8502, 0.8502, 0.8502, 0.8502, 0.7527, 0.475, 0.4392, 0.3684, 0.0778, 0.0778, 0.0118, -0.2363, -0.2366, 1.1285, 1.1285, 1.1285, 1.1285, 1.1285, 1.1285, 1.1285, 1.1285, 1.1285, 1.1284, 1.1284, 1.1284, 1.1284, 1.1284, 0.8869, 0.8538, 0.8466, 0.8466, 0.8466, 0.8465, 0.788, 0.6992, 0.6738, 0.6735, 0.4131, 0.1294, 0.1294, 0.1088, 0.1088, 0.1088, -0.6671, -0.1463, -1.1846, -0.5909, -0.5417, 1.6693, 1.2402, 1.2402, 1.2402, 1.2402, 1.2402, 1.2402, 1.2402, 1.0787, 1.0787, 0.6736, 0.345, 0.1625, 0.1625, 0.1625, 0.1624, 0.1392, 0.1392, 0.1392, 0.1392, 0.1392, 0.1392, 0.1236, 0.1236, 0.1236, 0.1236, 0.1236, 0.1235, 0.1235, 0.1235, -0.6129, -0.0953, -0.5394, -0.4902, 0.033, -1.6875, -0.9005, -0.2313, -0.7885, 0.0537, -0.2716, -0.4868, -0.876, -0.1782, -0.3678, -0.5328, -0.1402, -0.0098]}, \"token.table\": {\"Topic\": [2, 3, 3, 3, 1, 1, 1, 2, 2, 3, 5, 1, 2, 3, 1, 2, 1, 2, 3, 2, 2, 1, 2, 3, 4, 1, 3, 1, 2, 4, 3, 5, 3, 3, 3, 1, 3, 4, 3, 1, 1, 3, 3, 4, 3, 1, 1, 2, 3, 1, 1, 2, 1, 1, 1, 1, 2, 3, 1, 1, 1, 1, 3, 3, 1, 3, 5, 1, 1, 2, 2, 3, 3, 1, 2, 1, 2, 1, 2, 3, 2, 1, 6, 2, 1, 2, 3, 1, 2, 2, 1, 3, 3, 3, 4, 3, 3, 2, 2, 2, 6, 1, 2, 3, 3, 2, 3, 1, 1, 2, 4, 6, 4, 3, 3, 3, 1, 3], \"Freq\": [0.6624016175546215, 0.6389459045939339, 0.6393639946539137, 0.6389459045939339, 0.6614256070460328, 0.45727312441994833, 0.6614256070460328, 0.6411630451961557, 0.6182500436945852, 0.4301309351095359, 0.5529667597891688, 0.4327541470343883, 0.6411569536101873, 0.5154955505367108, 0.6170522237442884, 0.6411569536101873, 0.5171039593780558, 0.5171039593780558, 0.6393662900629234, 0.6411630451961557, 0.5200634893274947, 0.24324780584652705, 0.3648717087697906, 0.12162390292326353, 0.12162390292326353, 0.2119865756263429, 0.4239731512526858, 0.15897698199411006, 0.6359079279764402, 0.15897698199411006, 0.6393662900629234, 0.5529667597891688, 0.5985219583503989, 0.5293017175792767, 0.5984865788019971, 0.5735879048836589, 0.6393662900629234, 0.5896697267485717, 0.6393662900629234, 0.6400456739489581, 0.40461647046455856, 0.40461647046455856, 0.5837025620208705, 0.5896697267485717, 0.6393674157510472, 0.6702745119676905, 0.6170522237442884, 0.6624016175546215, 0.6393662900629234, 0.4032338393888222, 0.4557350744253197, 0.4557350744253197, 0.5035476247296784, 0.6400456739489581, 0.5163728070834669, 0.6614256070460328, 0.3164036324071091, 0.6328072648142182, 0.5699781041951225, 0.6400456739489581, 0.5541936337309834, 0.5735879048836589, 0.6393662900629234, 0.40566419265566805, 0.3864268275328389, 0.3864268275328389, 0.552983374075259, 0.5188762893690764, 0.6170522237442884, 0.6411630451961557, 0.6182500436945852, 0.572238392538141, 0.6393662900629234, 0.4697791658458111, 0.6411569536101873, 0.6170522237442884, 0.4783099449703328, 0.2675302937638515, 0.2675302937638515, 0.2675302937638515, 0.6182500436945852, 0.35076100484753314, 0.35076100484753314, 0.7656701477142708, 0.6400456739489581, 0.6182500436945852, 0.6393662900629234, 0.6170522237442884, 0.6411569536101873, 0.5732032658958371, 0.38386656205371006, 0.38386656205371006, 0.6393639946539137, 0.6393662900629234, 0.5781398017897714, 0.6393662900629234, 0.5428247374621601, 0.6182500436945852, 0.6411630451961557, 0.6624016175546215, 0.5824990522199803, 0.6170522237442884, 0.5441042262534235, 0.5223753050019047, 0.6393662900629234, 0.27417831733388837, 0.5483566346677767, 0.4395012424615723, 0.4871512810898363, 0.24357564054491815, 0.24357564054491815, 0.12178782027245907, 0.5896697267485717, 0.6393662900629234, 0.7524567145611027, 0.6393662900629234, 0.5163728070834669, 0.5508953676580193], \"Term\": [\"able\", \"application\", \"appointment\", \"approval\", \"astra\", \"available\", \"base\", \"bjp\", \"but\", \"case\", \"cat\", \"cent\", \"chadox\", \"chain\", \"class\", \"clinical\", \"cohort\", \"cohort\", \"concern\", \"congress\", \"country\", \"covaxin\", \"covaxin\", \"covaxin\", \"covaxin\", \"covid\", \"covid\", \"covishield\", \"covishield\", \"covishield\", \"daily\", \"dance\", \"danusia\", \"day\", \"death\", \"decision\", \"decline\", \"delta\", \"deterrent\", \"distance\", \"dose\", \"dose\", \"double\", \"efficacy\", \"entire\", \"family\", \"fix\", \"foreign\", \"free\", \"freedom\", \"friend\", \"friend\", \"government\", \"hand\", \"healthcare\", \"hesitancy\", \"hospital\", \"hospital\", \"huge\", \"important\", \"indian\", \"individual\", \"inoculation\", \"last\", \"many\", \"many\", \"marketing\", \"medical\", \"month\", \"new\", \"nod\", \"official\", \"op\", \"other\", \"outcome\", \"paper\", \"patient\", \"people\", \"people\", \"people\", \"period\", \"person\", \"person\", \"pfizer\", \"physical\", \"plain\", \"price\", \"process\", \"profile\", \"restriction\", \"risk\", \"risk\", \"second\", \"sense\", \"severity\", \"sharp\", \"shot\", \"simple\", \"sphere\", \"sputnik\", \"story\", \"student\", \"study\", \"today\", \"urgency\", \"vaccinated\", \"vaccinated\", \"vaccination\", \"vaccine\", \"vaccine\", \"vaccine\", \"vaccine\", \"variant\", \"wait\", \"week\", \"willing\", \"worker\", \"world\"]}, \"R\": 30, \"lambda.step\": 0.01, \"plot.opts\": {\"xlab\": \"PC1\", \"ylab\": \"PC2\"}, \"topic.order\": [1, 8, 4, 3, 6, 5, 2, 7]};\n",
              "\n",
              "function LDAvis_load_lib(url, callback){\n",
              "  var s = document.createElement('script');\n",
              "  s.src = url;\n",
              "  s.async = true;\n",
              "  s.onreadystatechange = s.onload = callback;\n",
              "  s.onerror = function(){console.warn(\"failed to load library \" + url);};\n",
              "  document.getElementsByTagName(\"head\")[0].appendChild(s);\n",
              "}\n",
              "\n",
              "if(typeof(LDAvis) !== \"undefined\"){\n",
              "   // already loaded: just create the visualization\n",
              "   !function(LDAvis){\n",
              "       new LDAvis(\"#\" + \"ldavis_el1898017507663307046699994100\", ldavis_el1898017507663307046699994100_data);\n",
              "   }(LDAvis);\n",
              "}else if(typeof define === \"function\" && define.amd){\n",
              "   // require.js is available: use it to load d3/LDAvis\n",
              "   require.config({paths: {d3: \"https://d3js.org/d3.v5\"}});\n",
              "   require([\"d3\"], function(d3){\n",
              "      window.d3 = d3;\n",
              "      LDAvis_load_lib(\"https://cdn.jsdelivr.net/gh/bmabey/pyLDAvis@3.3.0/pyLDAvis/js/ldavis.v3.0.0.js\", function(){\n",
              "        new LDAvis(\"#\" + \"ldavis_el1898017507663307046699994100\", ldavis_el1898017507663307046699994100_data);\n",
              "      });\n",
              "    });\n",
              "}else{\n",
              "    // require.js not available: dynamically load d3 & LDAvis\n",
              "    LDAvis_load_lib(\"https://d3js.org/d3.v5.js\", function(){\n",
              "         LDAvis_load_lib(\"https://cdn.jsdelivr.net/gh/bmabey/pyLDAvis@3.3.0/pyLDAvis/js/ldavis.v3.0.0.js\", function(){\n",
              "                 new LDAvis(\"#\" + \"ldavis_el1898017507663307046699994100\", ldavis_el1898017507663307046699994100_data);\n",
              "            })\n",
              "         });\n",
              "}\n",
              "</script>"
            ],
            "text/plain": [
              "PreparedData(topic_coordinates=              x         y  topics  cluster       Freq\n",
              "topic                                                \n",
              "0     -0.017177  0.020407       1        1  20.274588\n",
              "7     -0.022136  0.029151       2        1  19.708994\n",
              "3     -0.034940 -0.050236       3        1  18.099588\n",
              "2     -0.004017  0.018464       4        1  13.582833\n",
              "5      0.056496 -0.011421       5        1  10.498434\n",
              "4      0.007018  0.002195       6        1   7.734939\n",
              "1      0.009258 -0.002210       7        1   6.551903\n",
              "6      0.005498 -0.006349       8        1   3.548722, topic_info=           Term      Freq     Total Category  logprob  loglift\n",
              "12   covishield  6.000000  6.000000  Default  30.0000  30.0000\n",
              "8       vaccine  8.000000  8.000000  Default  29.0000  29.0000\n",
              "55        covid  4.000000  4.000000  Default  28.0000  28.0000\n",
              "77       person  2.000000  2.000000  Default  27.0000  27.0000\n",
              "19       pfizer  3.000000  3.000000  Default  26.0000  26.0000\n",
              "..          ...       ...       ...      ...      ...      ...\n",
              "119       world  0.053903  1.815227   Topic8  -5.7641  -0.1782\n",
              "122      friend  0.053903  2.194257   Topic8  -5.7641  -0.3678\n",
              "149        many  0.053903  2.587812   Topic8  -5.7641  -0.5328\n",
              "191    official  0.053903  1.747523   Topic8  -5.7641  -0.1402\n",
              "0        centre  0.053903  1.533836   Topic8  -5.7641  -0.0098\n",
              "\n",
              "[324 rows x 6 columns], token_table=      Topic      Freq         Term\n",
              "term                              \n",
              "120       2  0.662402         able\n",
              "185       3  0.638946  application\n",
              "206       3  0.639364  appointment\n",
              "186       3  0.638946     approval\n",
              "145       1  0.661426        astra\n",
              "...     ...       ...          ...\n",
              "204       3  0.639366         wait\n",
              "59        3  0.752457         week\n",
              "205       3  0.639366      willing\n",
              "155       1  0.516373       worker\n",
              "119       3  0.550895        world\n",
              "\n",
              "[118 rows x 3 columns], R=30, lambda_step=0.01, plot_opts={'xlab': 'PC1', 'ylab': 'PC2'}, topic_order=[1, 8, 4, 3, 6, 5, 2, 7])"
            ]
          },
          "execution_count": 30,
          "metadata": {},
          "output_type": "execute_result"
        }
      ],
      "source": [
        "pyLDAvis.enable_notebook()\n",
        "vis = pyLDAvis.gensim_models.prepare(lda_model, doc_term_matrix, dictionary)\n",
        "vis"
      ]
    },
    {
      "cell_type": "code",
      "execution_count": null,
      "metadata": {
        "id": "lmJ0O8XarvFT"
      },
      "outputs": [],
      "source": [
        ""
      ]
    }
  ],
  "metadata": {
    "kernelspec": {
      "display_name": "Python 3",
      "language": "python",
      "name": "python3"
    },
    "language_info": {
      "codemirror_mode": {
        "name": "ipython",
        "version": 3
      },
      "file_extension": ".py",
      "mimetype": "text/x-python",
      "name": "python",
      "nbconvert_exporter": "python",
      "pygments_lexer": "ipython3",
      "version": "3.8.5"
    },
    "colab": {
      "name": "LDA to analyze User Opinion on Social Media.ipynb",
      "provenance": [],
      "include_colab_link": true
    }
  },
  "nbformat": 4,
  "nbformat_minor": 0
}